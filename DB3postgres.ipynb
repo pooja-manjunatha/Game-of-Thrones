{
 "cells": [
  {
   "cell_type": "code",
   "execution_count": 82,
   "id": "fa13f2fb",
   "metadata": {},
   "outputs": [],
   "source": [
    "import psycopg2\n",
    "import pandas as pd\n",
    "import csv\n",
    "connection = psycopg2.connect(\"dbname=Battles user=root password=\")\n",
    "cursor = connection.cursor();"
   ]
  },
  {
   "cell_type": "code",
   "execution_count": 83,
   "id": "9692581c",
   "metadata": {},
   "outputs": [],
   "source": [
    "sql = \"CREATE TABLE Location (location VARCHAR(50) NOT NULL , region VARCHAR(255) NOT NULL, Location_ID INT NOT NULL Primary Key);\"\n",
    "cursor.execute(sql);"
   ]
  },
  {
   "cell_type": "code",
   "execution_count": 84,
   "id": "7584d3af",
   "metadata": {},
   "outputs": [
    {
     "name": "stdout",
     "output_type": "stream",
     "text": [
      "location_id  |  integer\n",
      "location  |  character varying\n",
      "region  |  character varying\n"
     ]
    }
   ],
   "source": [
    "sql = \"SELECT column_name, data_type FROM information_schema.columns WHERE table_name = 'location'\"\n",
    "cursor.execute(sql);\n",
    "result = cursor.fetchall()\n",
    "for row in result:\n",
    "    print(row[0],\" | \", row[1])"
   ]
  },
  {
   "cell_type": "code",
   "execution_count": 85,
   "id": "3a58b289",
   "metadata": {},
   "outputs": [],
   "source": [
    "sql = \"CREATE TABLE Battles (name VARCHAR(50), year VARCHAR(25) NOT NULL, battle_number VARCHAR(250) PRIMARY KEY, battle_type varchar(25), major_death varchar(10), major_capture varchar(10), summer varchar(10), attacker_outcome varchar(10), Location_ID int, CONSTRAINT FK_Location_Location_ID FOREIGN KEY (Location_ID) REFERENCES Location(Location_ID));\"\n",
    "cursor.execute(sql)"
   ]
  },
  {
   "cell_type": "code",
   "execution_count": 86,
   "id": "7ee1aba5",
   "metadata": {},
   "outputs": [
    {
     "name": "stdout",
     "output_type": "stream",
     "text": [
      "location_id  |  integer\n",
      "year  |  character varying\n",
      "battle_number  |  character varying\n",
      "battle_type  |  character varying\n",
      "name  |  character varying\n",
      "major_capture  |  character varying\n",
      "summer  |  character varying\n",
      "attacker_outcome  |  character varying\n",
      "major_death  |  character varying\n"
     ]
    }
   ],
   "source": [
    "sql = \"SELECT column_name, data_type FROM information_schema.columns WHERE table_name = 'battles'\"\n",
    "cursor.execute(sql);\n",
    "result = cursor.fetchall()\n",
    "for row in result:\n",
    "    print(row[0],\" | \", row[1])"
   ]
  },
  {
   "cell_type": "code",
   "execution_count": 87,
   "id": "38d6ca3d",
   "metadata": {},
   "outputs": [],
   "source": [
    "sql = \"CREATE TABLE defender (Defender_Number Varchar(100) NOT NULL PRIMARY KEY, defender_1 VARCHAR(100) NOT NULL, defender_king VARCHAR(25) NOT NULL, Battle_Number VARCHAR(250) NOT NULL, CONSTRAINT FK_defender_Battle_Number FOREIGN KEY (Battle_Number) REFERENCES Battles (battle_number), defender_size VARCHAR(25) NOT NULL);\"\n",
    "cursor.execute(sql);"
   ]
  },
  {
   "cell_type": "code",
   "execution_count": 88,
   "id": "fadfd181",
   "metadata": {},
   "outputs": [
    {
     "name": "stdout",
     "output_type": "stream",
     "text": [
      "defender_number  |  character varying\n",
      "defender_1  |  character varying\n",
      "defender_king  |  character varying\n",
      "battle_number  |  character varying\n",
      "defender_size  |  character varying\n"
     ]
    }
   ],
   "source": [
    "sql = \"SELECT column_name, data_type FROM information_schema.columns WHERE table_name = 'defender'\"\n",
    "cursor.execute(sql);\n",
    "result = cursor.fetchall()\n",
    "for row in result:\n",
    "    print(row[0],\" | \", row[1])"
   ]
  },
  {
   "cell_type": "code",
   "execution_count": 89,
   "id": "45878a2a",
   "metadata": {},
   "outputs": [],
   "source": [
    "sql = \"CREATE TABLE attacker (Attacker_Number varchar(200) NOT NULL PRIMARY KEY, Battle_Number VARCHAR(250) NOT NULL, attacker_king VARCHAR(25) NOT NULL, attacker_size VARCHAR(25) NOT NULL,attacker_1 varchar(20), CONSTRAINT FK_attacker_battle_number FOREIGN KEY (battle_number) REFERENCES Battles (battle_number));\"\n",
    "cursor.execute(sql)"
   ]
  },
  {
   "cell_type": "code",
   "execution_count": 90,
   "id": "f08f73de",
   "metadata": {},
   "outputs": [
    {
     "name": "stdout",
     "output_type": "stream",
     "text": [
      "attacker_number  |  character varying\n",
      "battle_number  |  character varying\n",
      "attacker_king  |  character varying\n",
      "attacker_size  |  character varying\n",
      "attacker_1  |  character varying\n"
     ]
    }
   ],
   "source": [
    "sql = \"SELECT column_name, data_type FROM information_schema.columns WHERE table_name = 'attacker'\"\n",
    "cursor.execute(sql);\n",
    "result = cursor.fetchall()\n",
    "for row in result:\n",
    "    print(row[0],\" | \", row[1])"
   ]
  },
  {
   "cell_type": "code",
   "execution_count": 91,
   "id": "d3e2970a",
   "metadata": {},
   "outputs": [],
   "source": [
    "Location = pd.read_csv('/Users/poojamanjunatha/Desktop/Location.csv', index_col=False)"
   ]
  },
  {
   "cell_type": "code",
   "execution_count": 92,
   "id": "35119183",
   "metadata": {},
   "outputs": [],
   "source": [
    "with open('location.csv', 'r') as f:\n",
    "    reader = csv.reader(f)\n",
    "    next(reader) \n",
    "    for row in reader:\n",
    "        cursor.execute(\"INSERT INTO location VALUES (%s, %s, %s)\",row)"
   ]
  },
  {
   "cell_type": "code",
   "execution_count": 93,
   "id": "c51ac887",
   "metadata": {},
   "outputs": [
    {
     "name": "stdout",
     "output_type": "stream",
     "text": [
      "38  rows inserted\n",
      "Golden Tooth  |  The Westerlands  |  300\n",
      "Mummer's Ford  |  The Riverlands  |  301\n",
      "Riverrun  |  The Riverlands  |  302\n",
      "Green Fork  |  The Riverlands  |  303\n",
      "Whispering Wood  |  The Riverlands  |  304\n",
      "Riverrun  |  The Riverlands  |  305\n",
      "Darry  |  The Riverlands  |  306\n",
      "Moat Cailin  |  The North  |  307\n",
      "Deepwood Motte  |  The North  |  308\n",
      "Stony Shore  |  The North  |  309\n",
      "Torrhen's Square  |  The North  |  310\n",
      "Winterfell  |  The North  |  311\n",
      "Torrhen's Square  |  The North  |  312\n",
      "Winterfell  |  The North  |  313\n",
      "Oxcross  |  The Westerlands  |  314\n",
      "Storm's End  |  The Stormlands  |  315\n",
      "Red Fork  |  The Riverlands  |  316\n",
      "Harrenhal  |  The Riverlands  |  317\n",
      "Crag  |  The Westerlands  |  318\n",
      "King's Landing  |  The Crownlands  |  319\n",
      "Darry  |  The Riverlands  |  320\n",
      "Duskendale  |  The Crownlands  |  321\n",
      "Unamed   |  The Riverlands  |  322\n",
      "Ruby Ford  |  The Riverlands  |  323\n",
      "Harrenhal  |  The Riverlands  |  324\n",
      "The Twins  |  The Riverlands  |  325\n",
      "Seagard  |  The Riverlands  |  326\n",
      "Castle Black  |  Beyond the Wall  |  327\n",
      "Moat Cailin  |  The North  |  328\n",
      "Saltpans  |  The Riverlands  |  329\n",
      "Deepwood Motte  |  The North  |  330\n",
      "Shield Islands  |  The Reach  |  331\n",
      "Ryamsport, Vinetown, Starfish Harbor  |  The Reach  |  332\n",
      "Storm's End  |  The Stormlands  |  333\n",
      "Dragonstone  |  The Stormlands  |  334\n",
      "Riverrun  |  The Riverlands  |  335\n",
      "Raventree  |  The Riverlands  |  336\n",
      "Winterfell  |  The North  |  337\n",
      "\n",
      "\n"
     ]
    }
   ],
   "source": [
    "sql = \"SELECT * FROM location;\"\n",
    "cursor.execute(sql);\n",
    "result = cursor.fetchall()\n",
    "print(len(result),\" rows inserted\");\n",
    "for row in result:\n",
    "    print(row[0],\" | \", row[1] ,\" | \", row[2])\n",
    "print(\"\\n\")"
   ]
  },
  {
   "cell_type": "code",
   "execution_count": 94,
   "id": "b3970a13",
   "metadata": {},
   "outputs": [],
   "source": [
    "Battles=pd.read_csv('/Users/poojamanjunatha/Desktop/Battles.csv', index_col=False)"
   ]
  },
  {
   "cell_type": "code",
   "execution_count": 95,
   "id": "7b4f5770",
   "metadata": {},
   "outputs": [],
   "source": [
    "with open('Battles.csv', 'r') as f:\n",
    "    reader = csv.reader(f)\n",
    "    next(reader) \n",
    "    for row in reader:\n",
    "        cursor.execute(\"INSERT INTO battles VALUES (%s, %s, %s,%s,%s,%s,%s,%s,%s)\",row)"
   ]
  },
  {
   "cell_type": "code",
   "execution_count": 96,
   "id": "d63e3625",
   "metadata": {},
   "outputs": [
    {
     "name": "stdout",
     "output_type": "stream",
     "text": [
      "10  rows inserted\n",
      "Battle of the Golden Tooth  |  298  |  1  |  pitched battle  |  1  |  0  |  1 | win | 300\n",
      "Battle at the Mummer's Ford  |  298  |  2  |  ambush  |  1  |  0  |  1 | win | 301\n",
      "Battle of Riverrun  |  298  |  3  |  pitched battle  |  0  |  1  |  1 | win | 302\n",
      "Battle of the Green Fork  |  298  |  4  |  pitched battle  |  1  |  1  |  1 | loss | 303\n",
      "Battle of the Whispering Wood  |  298  |  5  |  ambush  |  1  |  1  |  1 | win | 304\n",
      "Battle of the Camps  |  298  |  6  |  ambush  |  0  |  0  |  1 | win | 305\n",
      "Sack of Darry  |  298  |  7  |  pitched battle  |  0  |  0  |  1 | win | 306\n",
      "Battle of Moat Cailin  |  299  |  8  |  pitched battle  |  0  |  0  |  1 | win | 307\n",
      "Battle of Deepwood Motte  |  299  |  9  |  siege  |  0  |  0  |  1 | win | 308\n",
      "Battle of the Stony Shore  |  299  |  10  |  ambush  |  0  |  0  |  1 | win | 309\n",
      "\n",
      "\n"
     ]
    }
   ],
   "source": [
    "sql = \"SELECT * FROM battles;\"\n",
    "cursor.execute(sql);\n",
    "result = cursor.fetchall()\n",
    "print(len(result),\" rows inserted\");\n",
    "for row in result:\n",
    "    print(row[0],\" | \", row[1] ,\" | \", row[2] ,\" | \", row[3] ,\" | \", row[4] ,\" | \", row[5] ,\" | \", row[6],\"|\",row[7],\"|\", row[8])\n",
    "print(\"\\n\")"
   ]
  },
  {
   "cell_type": "code",
   "execution_count": 97,
   "id": "628249ae",
   "metadata": {},
   "outputs": [],
   "source": [
    "attacker=pd.read_csv('/Users/poojamanjunatha/Desktop/attacker.csv', index_col=False)"
   ]
  },
  {
   "cell_type": "code",
   "execution_count": 98,
   "id": "7c96b67c",
   "metadata": {},
   "outputs": [],
   "source": [
    "with open('attacker.csv', 'r') as f:\n",
    "    reader = csv.reader(f)\n",
    "    next(reader) \n",
    "    for row in reader:\n",
    "        cursor.execute(\"INSERT INTO attacker VALUES (%s, %s, %s,%s,%s)\",row)"
   ]
  },
  {
   "cell_type": "code",
   "execution_count": 99,
   "id": "ec71acd9",
   "metadata": {},
   "outputs": [
    {
     "name": "stdout",
     "output_type": "stream",
     "text": [
      "10  rows inserted\n",
      "100  |  1  |  Joffrey Baratheon  |  15000  |  Lannister\n",
      "101  |  2  |  Joffrey Baratheon  |  15000  |  Lannister\n",
      "102  |  3  |  Joffrey  Baratheon  |  15000  |  Lannister\n",
      "103  |  4  |  Robb Stark  |  18000  |  Stark\n",
      "104  |  5  |  Robb Stark  |  1875  |  Stark\n",
      "105  |  6  |  Robb Stark  |  6000  |  Stark\n",
      "106  |  7  |  Joffrey Baratheon  |  8000  |  Lannister\n",
      "107  |  8  |  Balon Greyjoy  |  9000  |  Greyjoy\n",
      "108  |  9  |  Balon Greyjoy  |  1000  |  Greyjoy\n",
      "109  |  10  |  Balon Greyjoy  |  264  |  Greyjoy\n",
      "\n",
      "\n"
     ]
    }
   ],
   "source": [
    "sql = \"SELECT * FROM attacker;\"\n",
    "cursor.execute(sql);\n",
    "result = cursor.fetchall()\n",
    "print(len(result),\" rows inserted\");\n",
    "for row in result:\n",
    "    print(row[0],\" | \", row[1] ,\" | \", row[2] ,\" | \", row[3] ,\" | \", row[4])\n",
    "print(\"\\n\")"
   ]
  },
  {
   "cell_type": "code",
   "execution_count": 81,
   "id": "3cedc017",
   "metadata": {},
   "outputs": [],
   "source": [
    "connection.rollback()"
   ]
  },
  {
   "cell_type": "code",
   "execution_count": 100,
   "id": "4b9e7ef8",
   "metadata": {},
   "outputs": [],
   "source": [
    "defender=pd.read_csv('/Users/poojamanjunatha/Desktop/defender.csv', index_col=False)"
   ]
  },
  {
   "cell_type": "code",
   "execution_count": 101,
   "id": "2de9ed44",
   "metadata": {},
   "outputs": [],
   "source": [
    "with open('defender.csv', 'r') as f:\n",
    "    reader = csv.reader(f)\n",
    "    next(reader) \n",
    "    for row in reader:\n",
    "        cursor.execute(\"INSERT INTO defender VALUES (%s, %s, %s,%s,%s)\",row)"
   ]
  },
  {
   "cell_type": "code",
   "execution_count": 102,
   "id": "798e7fc4",
   "metadata": {},
   "outputs": [
    {
     "name": "stdout",
     "output_type": "stream",
     "text": [
      "10  rows inserted\n",
      "200  |  Tully  |  Robb Stark  |  1  |  4000\n",
      "201  |  Baratheon  |  Robb Stark  |  2  |  120\n",
      "202  |  Tully  |  Robb Stark  |  3  |  10000\n",
      "203  |  Lannister  |  Joffrey  |  4  |  20000\n",
      "204  |  Lannister  |  Joffrey  |  5  |  6000\n",
      "205  |  Lannister  |  Joffrey  |  6  |  12625\n",
      "206  |  Darry  |  Robb Stark  |  7  |  7000\n",
      "207  |  Stark  |  Robb Stark  |  8  |  600\n",
      "208  |  Stark  |  Robb Stark  |  9  |  550\n",
      "209  |  Stark  |  Robb Stark  |  10  |  950\n",
      "\n",
      "\n"
     ]
    }
   ],
   "source": [
    "sql = \"SELECT * FROM defender;\"\n",
    "cursor.execute(sql);\n",
    "result = cursor.fetchall()\n",
    "print(len(result),\" rows inserted\");\n",
    "for row in result:\n",
    "    print(row[0],\" | \", row[1] ,\" | \", row[2] ,\" | \", row[3] ,\" | \", row[4])\n",
    "print(\"\\n\")"
   ]
  },
  {
   "cell_type": "code",
   "execution_count": 103,
   "id": "628488fe",
   "metadata": {},
   "outputs": [
    {
     "name": "stdout",
     "output_type": "stream",
     "text": [
      "Details of the attack where one of the atackers is named Lannister: [('100', '1', 'Joffrey Baratheon', '15000', 'Lannister'), ('101', '2', 'Joffrey Baratheon', '15000', 'Lannister'), ('102', '3', 'Joffrey  Baratheon', '15000', 'Lannister'), ('106', '7', 'Joffrey Baratheon', '8000', 'Lannister')]\n"
     ]
    }
   ],
   "source": [
    "##selecting all columns from attacker table where one of the attacker is a Lannister\n",
    "sql = \"SELECT * FROM attacker WHERE attacker_1 = 'Lannister';\"\n",
    "cursor.execute(sql);\n",
    "result = cursor.fetchall()\n",
    "print(\"Details of the attack where one of the atackers is named Lannister:\", result);"
   ]
  },
  {
   "cell_type": "code",
   "execution_count": 104,
   "id": "016b2024",
   "metadata": {},
   "outputs": [],
   "source": [
    "##Inserting a value into the Location table\n",
    "sql = \"INSERT INTO Location (location,region,Location_ID) VALUES ('The_North', 'Winterfell','555');\"\n",
    "cursor.execute(sql);"
   ]
  },
  {
   "cell_type": "code",
   "execution_count": 105,
   "id": "bb98cae3",
   "metadata": {},
   "outputs": [
    {
     "name": "stdout",
     "output_type": "stream",
     "text": [
      "Updating the name of the region correctly which was inserted incorrectly previously : [('The_North', 'White Harbor', 555)]\n"
     ]
    }
   ],
   "source": [
    "##Updating the value\n",
    "sql = \"UPDATE Location SET region = 'White Harbor' WHERE Location_ID = '555'\";\n",
    "cursor.execute(sql);\n",
    "sql = \"SELECT * FROM Location WHERE Location_ID = '555';\"\n",
    "cursor.execute(sql);\n",
    "result = cursor.fetchall()\n",
    "print(\"Updating the name of the region correctly which was inserted incorrectly previously :\", result);"
   ]
  },
  {
   "cell_type": "code",
   "execution_count": 106,
   "id": "0838c6c0",
   "metadata": {},
   "outputs": [
    {
     "name": "stdout",
     "output_type": "stream",
     "text": [
      "Deleting a location with the location ID 555 which was inserted above  []\n"
     ]
    }
   ],
   "source": [
    "##Deleting the value\n",
    "sql = \"DELETE FROM Location WHERE Location_ID = '555';\"\n",
    "cursor.execute(sql);\n",
    "sql = \"SELECT * FROM location WHERE Location_ID = '555';\"\n",
    "cursor.execute(sql);\n",
    "result = cursor.fetchall()\n",
    "print(\"Deleting a location with the location ID 555 which was inserted above \", result);"
   ]
  },
  {
   "cell_type": "code",
   "execution_count": 107,
   "id": "78660b70",
   "metadata": {},
   "outputs": [],
   "source": [
    "##Inserting the value to the Battles table\n",
    "sql=\"INSERT INTO Battles(name,year,battle_number,battle_type,major_death,major_capture,summer,attacker_outcome,Location_ID) VALUES('Battle_of_Bastards','202','1000','Ambush','1','0','0','win','315')\"\n",
    "cursor.execute(sql);"
   ]
  },
  {
   "cell_type": "code",
   "execution_count": 108,
   "id": "37d0f4e6",
   "metadata": {},
   "outputs": [
    {
     "name": "stdout",
     "output_type": "stream",
     "text": [
      "Updating the name of the year correctly which was inserted incorrectly previously : [('Battle_of_Bastards', '2014', '1000', 'Ambush', '1', '0', '0', 'win', 315)]\n"
     ]
    }
   ],
   "source": [
    "##Updating the value in the Battles table that is previously added\n",
    "sql = \"UPDATE Battles SET year = '2014' WHERE  Location_ID = '315'\";\n",
    "cursor.execute(sql);\n",
    "sql = \"SELECT * FROM Battles WHERE Location_ID = '315';\"\n",
    "cursor.execute(sql);\n",
    "result = cursor.fetchall()\n",
    "print(\"Updating the name of the year correctly which was inserted incorrectly previously :\", result);"
   ]
  },
  {
   "cell_type": "code",
   "execution_count": 109,
   "id": "b3f71e69",
   "metadata": {},
   "outputs": [
    {
     "name": "stdout",
     "output_type": "stream",
     "text": [
      "Deleting a battle with the location ID 315 which was inserted above  []\n"
     ]
    }
   ],
   "source": [
    "##Deleting the previous record\n",
    "sql=\"DELETE from battles where Location_ID='315'\"\n",
    "cursor.execute(sql);\n",
    "sql = \"SELECT * FROM Battles WHERE Location_ID = '315';\"\n",
    "cursor.execute(sql);\n",
    "result = cursor.fetchall()\n",
    "print(\"Deleting a battle with the location ID 315 which was inserted above \", result);"
   ]
  },
  {
   "cell_type": "code",
   "execution_count": null,
   "id": "ac44c259",
   "metadata": {},
   "outputs": [],
   "source": []
  }
 ],
 "metadata": {
  "kernelspec": {
   "display_name": "Python 3 (ipykernel)",
   "language": "python",
   "name": "python3"
  },
  "language_info": {
   "codemirror_mode": {
    "name": "ipython",
    "version": 3
   },
   "file_extension": ".py",
   "mimetype": "text/x-python",
   "name": "python",
   "nbconvert_exporter": "python",
   "pygments_lexer": "ipython3",
   "version": "3.9.7"
  }
 },
 "nbformat": 4,
 "nbformat_minor": 5
}
