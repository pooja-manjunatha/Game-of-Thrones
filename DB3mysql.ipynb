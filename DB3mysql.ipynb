{
 "cells": [
  {
   "cell_type": "code",
   "execution_count": 1,
   "id": "db8b7891",
   "metadata": {},
   "outputs": [],
   "source": [
    "import mysql.connector\n",
    "import pandas as pd\n",
    "import matplotlib.pyplot as plt"
   ]
  },
  {
   "cell_type": "code",
   "execution_count": 216,
   "id": "4daae0dc",
   "metadata": {},
   "outputs": [
    {
     "name": "stdout",
     "output_type": "stream",
     "text": [
      "Enter username: root\n",
      "Enter password: ········\n",
      "<mysql.connector.connection.MySQLConnection object at 0x7fb7843e5a30>\n"
     ]
    }
   ],
   "source": [
    "from getpass import getpass\n",
    "from mysql.connector import connect, Error\n",
    "\n",
    "try:\n",
    "    with connect(\n",
    "        host=\"127.0.0.1\",\n",
    "        user=input(\"Enter username: \"),\n",
    "        password=getpass(\"Enter password: \"),\n",
    "    ) as connection:\n",
    "     \n",
    "        print(connection)\n",
    "except Error as e:\n",
    "    print(e)"
   ]
  },
  {
   "cell_type": "code",
   "execution_count": 234,
   "id": "9f07b497",
   "metadata": {},
   "outputs": [],
   "source": [
    "connection.reconnect();\n",
    "cursor = connection.cursor();\n",
    "cursor.execute(\"CREATE DATABASE Battles;\")"
   ]
  },
  {
   "cell_type": "code",
   "execution_count": 235,
   "id": "faca7d64",
   "metadata": {},
   "outputs": [],
   "source": [
    "connection.reconnect();\n",
    "cursor = connection.cursor();\n",
    "cursor.execute(\"USE Battles\");"
   ]
  },
  {
   "cell_type": "code",
   "execution_count": 236,
   "id": "f8976f89",
   "metadata": {},
   "outputs": [],
   "source": [
    "sql = \"CREATE TABLE Location (location VARCHAR(50) NOT NULL , region VARCHAR(255) NOT NULL, Location_ID INT NOT NULL Primary Key);\"\n",
    "cursor.execute(sql);"
   ]
  },
  {
   "cell_type": "code",
   "execution_count": 237,
   "id": "e8619edb",
   "metadata": {},
   "outputs": [
    {
     "name": "stdout",
     "output_type": "stream",
     "text": [
      "[('location', 'varchar(50)', 'NO', '', None, ''), ('region', 'varchar(255)', 'NO', '', None, ''), ('Location_ID', 'int', 'NO', 'PRI', None, '')]\n"
     ]
    }
   ],
   "source": [
    "sql = \"DESCRIBE Location\"\n",
    "cursor.execute(sql);\n",
    "result = cursor.fetchall()\n",
    "print(result)"
   ]
  },
  {
   "cell_type": "code",
   "execution_count": 238,
   "id": "2908c2f4",
   "metadata": {},
   "outputs": [],
   "source": [
    "sql = \"CREATE TABLE Battles (name VARCHAR(50), year VARCHAR(25) NOT NULL, battle_number VARCHAR(250) PRIMARY KEY, battle_type varchar(25), major_death varchar(10), major_capture varchar(10), summer varchar(10), attacker_outcome varchar(10), Location_ID int, CONSTRAINT FK_Location_Location_ID FOREIGN KEY (Location_ID) REFERENCES Location(Location_ID));\"\n",
    "cursor.execute(sql)"
   ]
  },
  {
   "cell_type": "code",
   "execution_count": 243,
   "id": "aa47b70a",
   "metadata": {},
   "outputs": [],
   "source": [
    "sql = \"CREATE TABLE defender (Defender_Number Varchar(100) NOT NULL PRIMARY KEY, defender_1 VARCHAR(100) NOT NULL, defender_king VARCHAR(25) NOT NULL, Battle_Number VARCHAR(250) NOT NULL, CONSTRAINT FK_defender_Battle_Number FOREIGN KEY (Battle_Number) REFERENCES Battles (battle_number), defender_size VARCHAR(25) NOT NULL);\"\n",
    "cursor.execute(sql);"
   ]
  },
  {
   "cell_type": "code",
   "execution_count": 248,
   "id": "a47402f8",
   "metadata": {},
   "outputs": [
    {
     "name": "stdout",
     "output_type": "stream",
     "text": [
      "[('Defender_Number', 'varchar(100)', 'NO', 'PRI', None, ''), ('defender_1', 'varchar(100)', 'NO', '', None, ''), ('defender_king', 'varchar(25)', 'NO', '', None, ''), ('Battle_Number', 'varchar(250)', 'NO', 'MUL', None, ''), ('defender_size', 'varchar(25)', 'NO', '', None, '')]\n"
     ]
    }
   ],
   "source": [
    "sql = \"DESCRIBE defender\"\n",
    "cursor.execute(sql);\n",
    "result = cursor.fetchall()\n",
    "print(result)"
   ]
  },
  {
   "cell_type": "code",
   "execution_count": 259,
   "id": "8a43863c",
   "metadata": {},
   "outputs": [],
   "source": [
    "sql = \"CREATE TABLE attacker (Attacker_Number varchar(200) NOT NULL PRIMARY KEY, Battle_Number VARCHAR(250) NOT NULL, attacker_king VARCHAR(25) NOT NULL, attacker_size VARCHAR(25) NOT NULL,attacker_1 varchar(20), CONSTRAINT FK_attacker_battle_number FOREIGN KEY (battle_number) REFERENCES Battles (battle_number));\"\n",
    "cursor.execute(sql)"
   ]
  },
  {
   "cell_type": "code",
   "execution_count": 261,
   "id": "40afdee2",
   "metadata": {},
   "outputs": [
    {
     "name": "stdout",
     "output_type": "stream",
     "text": [
      "[('Attacker_Number', 'varchar(200)', 'NO', 'PRI', None, ''), ('Battle_Number', 'varchar(250)', 'NO', 'MUL', None, ''), ('attacker_king', 'varchar(25)', 'NO', '', None, ''), ('attacker_size', 'varchar(25)', 'NO', '', None, ''), ('attacker_1', 'varchar(20)', 'YES', '', None, '')]\n"
     ]
    }
   ],
   "source": [
    "sql = \"DESCRIBE attacker\"\n",
    "cursor.execute(sql);\n",
    "result = cursor.fetchall()\n",
    "print(result)"
   ]
  },
  {
   "cell_type": "code",
   "execution_count": 192,
   "id": "6f4a4fdc",
   "metadata": {},
   "outputs": [
    {
     "name": "stdout",
     "output_type": "stream",
     "text": [
      "[('name', 'varchar(50)', 'YES', '', None, ''), ('year', 'varchar(25)', 'NO', '', None, ''), ('battle_number', 'varchar(250)', 'NO', 'PRI', None, ''), ('battle_type', 'varchar(25)', 'YES', '', None, ''), ('major_death', 'tinyint(1)', 'YES', '', None, ''), ('major_capture', 'tinyint(1)', 'YES', '', None, ''), ('summer', 'tinyint(1)', 'YES', '', None, ''), ('attacker_outcome', 'varchar(10)', 'YES', '', None, ''), ('Location_ID', 'int', 'YES', 'MUL', None, '')]\n"
     ]
    }
   ],
   "source": [
    "sql = \"DESCRIBE Battles\"\n",
    "cursor.execute(sql);\n",
    "result = cursor.fetchall()\n",
    "print(result)"
   ]
  },
  {
   "cell_type": "code",
   "execution_count": 239,
   "id": "29f42b6c",
   "metadata": {},
   "outputs": [],
   "source": [
    "Location = pd.read_csv('/Users/poojamanjunatha/Desktop/Location.csv', index_col=False)"
   ]
  },
  {
   "cell_type": "code",
   "execution_count": 229,
   "id": "35bb9c8b",
   "metadata": {},
   "outputs": [
    {
     "data": {
      "text/html": [
       "<div>\n",
       "<style scoped>\n",
       "    .dataframe tbody tr th:only-of-type {\n",
       "        vertical-align: middle;\n",
       "    }\n",
       "\n",
       "    .dataframe tbody tr th {\n",
       "        vertical-align: top;\n",
       "    }\n",
       "\n",
       "    .dataframe thead th {\n",
       "        text-align: right;\n",
       "    }\n",
       "</style>\n",
       "<table border=\"1\" class=\"dataframe\">\n",
       "  <thead>\n",
       "    <tr style=\"text-align: right;\">\n",
       "      <th></th>\n",
       "      <th>location</th>\n",
       "      <th>region</th>\n",
       "      <th>Location ID</th>\n",
       "    </tr>\n",
       "  </thead>\n",
       "  <tbody>\n",
       "    <tr>\n",
       "      <th>0</th>\n",
       "      <td>Golden Tooth</td>\n",
       "      <td>The Westerlands</td>\n",
       "      <td>300</td>\n",
       "    </tr>\n",
       "    <tr>\n",
       "      <th>1</th>\n",
       "      <td>Mummer's Ford</td>\n",
       "      <td>The Riverlands</td>\n",
       "      <td>301</td>\n",
       "    </tr>\n",
       "    <tr>\n",
       "      <th>2</th>\n",
       "      <td>Riverrun</td>\n",
       "      <td>The Riverlands</td>\n",
       "      <td>302</td>\n",
       "    </tr>\n",
       "    <tr>\n",
       "      <th>3</th>\n",
       "      <td>Green Fork</td>\n",
       "      <td>The Riverlands</td>\n",
       "      <td>303</td>\n",
       "    </tr>\n",
       "    <tr>\n",
       "      <th>4</th>\n",
       "      <td>Whispering Wood</td>\n",
       "      <td>The Riverlands</td>\n",
       "      <td>304</td>\n",
       "    </tr>\n",
       "  </tbody>\n",
       "</table>\n",
       "</div>"
      ],
      "text/plain": [
       "          location           region  Location ID\n",
       "0     Golden Tooth  The Westerlands          300\n",
       "1    Mummer's Ford   The Riverlands          301\n",
       "2         Riverrun   The Riverlands          302\n",
       "3       Green Fork   The Riverlands          303\n",
       "4  Whispering Wood   The Riverlands          304"
      ]
     },
     "execution_count": 229,
     "metadata": {},
     "output_type": "execute_result"
    }
   ],
   "source": [
    "Location.head()\n"
   ]
  },
  {
   "cell_type": "code",
   "execution_count": 240,
   "id": "851b62d1",
   "metadata": {},
   "outputs": [
    {
     "name": "stdout",
     "output_type": "stream",
     "text": [
      "Record inserted\n",
      "Record inserted\n",
      "Record inserted\n",
      "Record inserted\n",
      "Record inserted\n",
      "Record inserted\n",
      "Record inserted\n",
      "Record inserted\n",
      "Record inserted\n",
      "Record inserted\n",
      "Record inserted\n",
      "Record inserted\n",
      "Record inserted\n",
      "Record inserted\n",
      "Record inserted\n",
      "Record inserted\n",
      "Record inserted\n",
      "Record inserted\n",
      "Record inserted\n",
      "Record inserted\n",
      "Record inserted\n",
      "Record inserted\n",
      "Record inserted\n",
      "Record inserted\n",
      "Record inserted\n",
      "Record inserted\n",
      "Record inserted\n",
      "Record inserted\n",
      "Record inserted\n",
      "Record inserted\n",
      "Record inserted\n",
      "Record inserted\n",
      "Record inserted\n",
      "Record inserted\n",
      "Record inserted\n",
      "Record inserted\n",
      "Record inserted\n",
      "Record inserted\n"
     ]
    }
   ],
   "source": [
    "for i, row in Location.iterrows():\n",
    "    sql = \"INSERT INTO Location VALUES (%s, %s, %s)\"\n",
    "    cursor.execute(sql, tuple(row))\n",
    "    print(\"Record inserted\")"
   ]
  },
  {
   "cell_type": "code",
   "execution_count": 255,
   "id": "27159ea5",
   "metadata": {},
   "outputs": [],
   "source": [
    "attacker=pd.read_csv('/Users/poojamanjunatha/Desktop/attacker.csv', index_col=False)"
   ]
  },
  {
   "cell_type": "code",
   "execution_count": 263,
   "id": "31414f02",
   "metadata": {},
   "outputs": [
    {
     "name": "stdout",
     "output_type": "stream",
     "text": [
      "Record inserted\n",
      "Record inserted\n",
      "Record inserted\n",
      "Record inserted\n",
      "Record inserted\n",
      "Record inserted\n",
      "Record inserted\n",
      "Record inserted\n",
      "Record inserted\n",
      "Record inserted\n"
     ]
    }
   ],
   "source": [
    "for i, row in attacker.iterrows():\n",
    "    sql = \"INSERT INTO attacker VALUES (%s, %s, %s,%s,%s)\"\n",
    "    cursor.execute(sql, tuple(row))\n",
    "    print(\"Record inserted\")"
   ]
  },
  {
   "cell_type": "code",
   "execution_count": 242,
   "id": "bfeefb1f",
   "metadata": {},
   "outputs": [
    {
     "name": "stdout",
     "output_type": "stream",
     "text": [
      "Record inserted\n",
      "Record inserted\n",
      "Record inserted\n",
      "Record inserted\n",
      "Record inserted\n",
      "Record inserted\n",
      "Record inserted\n",
      "Record inserted\n",
      "Record inserted\n",
      "Record inserted\n"
     ]
    }
   ],
   "source": [
    "for i, row in Battles.iterrows():\n",
    "    sql = \"INSERT INTO  BATTLES VALUES (%s, %s, %s,%s,%s,%s,%s,%s,%s)\"\n",
    "    cursor.execute(sql, tuple(row))\n",
    "    print(\"Record inserted\")"
   ]
  },
  {
   "cell_type": "code",
   "execution_count": 249,
   "id": "11a8221b",
   "metadata": {},
   "outputs": [],
   "source": [
    "defender=pd.read_csv('/Users/poojamanjunatha/Desktop/defender.csv', index_col=False)"
   ]
  },
  {
   "cell_type": "code",
   "execution_count": 250,
   "id": "b993ebea",
   "metadata": {},
   "outputs": [
    {
     "data": {
      "text/html": [
       "<div>\n",
       "<style scoped>\n",
       "    .dataframe tbody tr th:only-of-type {\n",
       "        vertical-align: middle;\n",
       "    }\n",
       "\n",
       "    .dataframe tbody tr th {\n",
       "        vertical-align: top;\n",
       "    }\n",
       "\n",
       "    .dataframe thead th {\n",
       "        text-align: right;\n",
       "    }\n",
       "</style>\n",
       "<table border=\"1\" class=\"dataframe\">\n",
       "  <thead>\n",
       "    <tr style=\"text-align: right;\">\n",
       "      <th></th>\n",
       "      <th>Defender_Number</th>\n",
       "      <th>defender_1</th>\n",
       "      <th>defender_king</th>\n",
       "      <th>battle_number</th>\n",
       "      <th>defender_size</th>\n",
       "    </tr>\n",
       "  </thead>\n",
       "  <tbody>\n",
       "    <tr>\n",
       "      <th>0</th>\n",
       "      <td>200</td>\n",
       "      <td>Tully</td>\n",
       "      <td>Robb Stark</td>\n",
       "      <td>1</td>\n",
       "      <td>4000</td>\n",
       "    </tr>\n",
       "    <tr>\n",
       "      <th>1</th>\n",
       "      <td>201</td>\n",
       "      <td>Baratheon</td>\n",
       "      <td>Robb Stark</td>\n",
       "      <td>2</td>\n",
       "      <td>120</td>\n",
       "    </tr>\n",
       "    <tr>\n",
       "      <th>2</th>\n",
       "      <td>202</td>\n",
       "      <td>Tully</td>\n",
       "      <td>Robb Stark</td>\n",
       "      <td>3</td>\n",
       "      <td>10000</td>\n",
       "    </tr>\n",
       "    <tr>\n",
       "      <th>3</th>\n",
       "      <td>203</td>\n",
       "      <td>Lannister</td>\n",
       "      <td>Joffrey</td>\n",
       "      <td>4</td>\n",
       "      <td>20000</td>\n",
       "    </tr>\n",
       "    <tr>\n",
       "      <th>4</th>\n",
       "      <td>204</td>\n",
       "      <td>Lannister</td>\n",
       "      <td>Joffrey</td>\n",
       "      <td>5</td>\n",
       "      <td>6000</td>\n",
       "    </tr>\n",
       "  </tbody>\n",
       "</table>\n",
       "</div>"
      ],
      "text/plain": [
       "   Defender_Number defender_1 defender_king  battle_number  defender_size\n",
       "0              200      Tully    Robb Stark              1           4000\n",
       "1              201  Baratheon    Robb Stark              2            120\n",
       "2              202      Tully    Robb Stark              3          10000\n",
       "3              203  Lannister       Joffrey              4          20000\n",
       "4              204  Lannister       Joffrey              5           6000"
      ]
     },
     "execution_count": 250,
     "metadata": {},
     "output_type": "execute_result"
    }
   ],
   "source": [
    "defender.head()"
   ]
  },
  {
   "cell_type": "code",
   "execution_count": 241,
   "id": "573435fa",
   "metadata": {},
   "outputs": [],
   "source": [
    "Battles=pd.read_csv('/Users/poojamanjunatha/Desktop/Battles.csv', index_col=False)"
   ]
  },
  {
   "cell_type": "code",
   "execution_count": 251,
   "id": "eb22718e",
   "metadata": {},
   "outputs": [
    {
     "name": "stdout",
     "output_type": "stream",
     "text": [
      "Record inserted\n",
      "Record inserted\n",
      "Record inserted\n",
      "Record inserted\n",
      "Record inserted\n",
      "Record inserted\n",
      "Record inserted\n",
      "Record inserted\n",
      "Record inserted\n",
      "Record inserted\n"
     ]
    }
   ],
   "source": [
    "for i, row in defender.iterrows():\n",
    "    sql = \"INSERT INTO  defender VALUES (%s, %s, %s,%s,%s)\"\n",
    "    cursor.execute(sql, tuple(row))\n",
    "    print(\"Record inserted\")"
   ]
  },
  {
   "cell_type": "code",
   "execution_count": 204,
   "id": "2a4ebcfe",
   "metadata": {},
   "outputs": [
    {
     "data": {
      "text/html": [
       "<div>\n",
       "<style scoped>\n",
       "    .dataframe tbody tr th:only-of-type {\n",
       "        vertical-align: middle;\n",
       "    }\n",
       "\n",
       "    .dataframe tbody tr th {\n",
       "        vertical-align: top;\n",
       "    }\n",
       "\n",
       "    .dataframe thead th {\n",
       "        text-align: right;\n",
       "    }\n",
       "</style>\n",
       "<table border=\"1\" class=\"dataframe\">\n",
       "  <thead>\n",
       "    <tr style=\"text-align: right;\">\n",
       "      <th></th>\n",
       "      <th>name</th>\n",
       "      <th>year</th>\n",
       "      <th>battle_number</th>\n",
       "      <th>battle_type</th>\n",
       "      <th>major_death</th>\n",
       "      <th>major_capture</th>\n",
       "      <th>summer</th>\n",
       "      <th>attacker_outcome</th>\n",
       "      <th>Location ID</th>\n",
       "    </tr>\n",
       "  </thead>\n",
       "  <tbody>\n",
       "    <tr>\n",
       "      <th>0</th>\n",
       "      <td>Battle of the Golden Tooth</td>\n",
       "      <td>298</td>\n",
       "      <td>1</td>\n",
       "      <td>pitched battle</td>\n",
       "      <td>1</td>\n",
       "      <td>0</td>\n",
       "      <td>1</td>\n",
       "      <td>win</td>\n",
       "      <td>300</td>\n",
       "    </tr>\n",
       "    <tr>\n",
       "      <th>1</th>\n",
       "      <td>Battle at the Mummer's Ford</td>\n",
       "      <td>298</td>\n",
       "      <td>2</td>\n",
       "      <td>ambush</td>\n",
       "      <td>1</td>\n",
       "      <td>0</td>\n",
       "      <td>1</td>\n",
       "      <td>win</td>\n",
       "      <td>301</td>\n",
       "    </tr>\n",
       "    <tr>\n",
       "      <th>2</th>\n",
       "      <td>Battle of Riverrun</td>\n",
       "      <td>298</td>\n",
       "      <td>3</td>\n",
       "      <td>pitched battle</td>\n",
       "      <td>0</td>\n",
       "      <td>1</td>\n",
       "      <td>1</td>\n",
       "      <td>win</td>\n",
       "      <td>302</td>\n",
       "    </tr>\n",
       "    <tr>\n",
       "      <th>3</th>\n",
       "      <td>Battle of the Green Fork</td>\n",
       "      <td>298</td>\n",
       "      <td>4</td>\n",
       "      <td>pitched battle</td>\n",
       "      <td>1</td>\n",
       "      <td>1</td>\n",
       "      <td>1</td>\n",
       "      <td>loss</td>\n",
       "      <td>303</td>\n",
       "    </tr>\n",
       "    <tr>\n",
       "      <th>4</th>\n",
       "      <td>Battle of the Whispering Wood</td>\n",
       "      <td>298</td>\n",
       "      <td>5</td>\n",
       "      <td>ambush</td>\n",
       "      <td>1</td>\n",
       "      <td>1</td>\n",
       "      <td>1</td>\n",
       "      <td>win</td>\n",
       "      <td>304</td>\n",
       "    </tr>\n",
       "  </tbody>\n",
       "</table>\n",
       "</div>"
      ],
      "text/plain": [
       "                            name  year  battle_number     battle_type  \\\n",
       "0     Battle of the Golden Tooth   298              1  pitched battle   \n",
       "1    Battle at the Mummer's Ford   298              2          ambush   \n",
       "2             Battle of Riverrun   298              3  pitched battle   \n",
       "3       Battle of the Green Fork   298              4  pitched battle   \n",
       "4  Battle of the Whispering Wood   298              5          ambush   \n",
       "\n",
       "   major_death  major_capture  summer attacker_outcome  Location ID  \n",
       "0            1              0       1              win          300  \n",
       "1            1              0       1              win          301  \n",
       "2            0              1       1              win          302  \n",
       "3            1              1       1             loss          303  \n",
       "4            1              1       1              win          304  "
      ]
     },
     "execution_count": 204,
     "metadata": {},
     "output_type": "execute_result"
    }
   ],
   "source": [
    "Battles.head()"
   ]
  },
  {
   "cell_type": "code",
   "execution_count": 262,
   "id": "509688cf",
   "metadata": {},
   "outputs": [
    {
     "name": "stdout",
     "output_type": "stream",
     "text": [
      "[('Attacker_Number', 'varchar(200)', 'NO', 'PRI', None, ''), ('Battle_Number', 'varchar(250)', 'NO', 'MUL', None, ''), ('attacker_king', 'varchar(25)', 'NO', '', None, ''), ('attacker_size', 'varchar(25)', 'NO', '', None, ''), ('attacker_1', 'varchar(20)', 'YES', '', None, '')]\n"
     ]
    }
   ],
   "source": [
    "sql = \"DESCRIBE attacker\"\n",
    "cursor.execute(sql);\n",
    "result = cursor.fetchall()\n",
    "print(result)"
   ]
  },
  {
   "cell_type": "code",
   "execution_count": 264,
   "id": "feeca9bc",
   "metadata": {},
   "outputs": [
    {
     "ename": "IntegrityError",
     "evalue": "1062 (23000): Duplicate entry '100' for key 'attacker.PRIMARY'",
     "output_type": "error",
     "traceback": [
      "\u001b[0;31m---------------------------------------------------------------------------\u001b[0m",
      "\u001b[0;31mIntegrityError\u001b[0m                            Traceback (most recent call last)",
      "\u001b[0;32m/var/folders/yh/6nm7rgk14wj2q99sbkbzwl0w0000gn/T/ipykernel_24184/2635991665.py\u001b[0m in \u001b[0;36m<module>\u001b[0;34m\u001b[0m\n\u001b[1;32m      1\u001b[0m \u001b[0;32mfor\u001b[0m \u001b[0mi\u001b[0m\u001b[0;34m,\u001b[0m \u001b[0mrow\u001b[0m \u001b[0;32min\u001b[0m \u001b[0mattacker\u001b[0m\u001b[0;34m.\u001b[0m\u001b[0miterrows\u001b[0m\u001b[0;34m(\u001b[0m\u001b[0;34m)\u001b[0m\u001b[0;34m:\u001b[0m\u001b[0;34m\u001b[0m\u001b[0;34m\u001b[0m\u001b[0m\n\u001b[1;32m      2\u001b[0m     \u001b[0msql\u001b[0m \u001b[0;34m=\u001b[0m \u001b[0;34m\"INSERT INTO  attacker VALUES (%s, %s, %s,%s,%s)\"\u001b[0m\u001b[0;34m\u001b[0m\u001b[0;34m\u001b[0m\u001b[0m\n\u001b[0;32m----> 3\u001b[0;31m     \u001b[0mcursor\u001b[0m\u001b[0;34m.\u001b[0m\u001b[0mexecute\u001b[0m\u001b[0;34m(\u001b[0m\u001b[0msql\u001b[0m\u001b[0;34m,\u001b[0m \u001b[0mtuple\u001b[0m\u001b[0;34m(\u001b[0m\u001b[0mrow\u001b[0m\u001b[0;34m)\u001b[0m\u001b[0;34m)\u001b[0m\u001b[0;34m\u001b[0m\u001b[0;34m\u001b[0m\u001b[0m\n\u001b[0m\u001b[1;32m      4\u001b[0m     \u001b[0mprint\u001b[0m\u001b[0;34m(\u001b[0m\u001b[0;34m\"Record inserted\"\u001b[0m\u001b[0;34m)\u001b[0m\u001b[0;34m\u001b[0m\u001b[0;34m\u001b[0m\u001b[0m\n",
      "\u001b[0;32m~/opt/anaconda3/lib/python3.9/site-packages/mysql/connector/cursor.py\u001b[0m in \u001b[0;36mexecute\u001b[0;34m(self, operation, params, multi)\u001b[0m\n\u001b[1;32m    615\u001b[0m \u001b[0;34m\u001b[0m\u001b[0m\n\u001b[1;32m    616\u001b[0m         \u001b[0;32mtry\u001b[0m\u001b[0;34m:\u001b[0m\u001b[0;34m\u001b[0m\u001b[0;34m\u001b[0m\u001b[0m\n\u001b[0;32m--> 617\u001b[0;31m             \u001b[0mself\u001b[0m\u001b[0;34m.\u001b[0m\u001b[0m_handle_result\u001b[0m\u001b[0;34m(\u001b[0m\u001b[0mself\u001b[0m\u001b[0;34m.\u001b[0m\u001b[0m_connection\u001b[0m\u001b[0;34m.\u001b[0m\u001b[0mcmd_query\u001b[0m\u001b[0;34m(\u001b[0m\u001b[0mstmt\u001b[0m\u001b[0;34m)\u001b[0m\u001b[0;34m)\u001b[0m\u001b[0;34m\u001b[0m\u001b[0;34m\u001b[0m\u001b[0m\n\u001b[0m\u001b[1;32m    618\u001b[0m         \u001b[0;32mexcept\u001b[0m \u001b[0mInterfaceError\u001b[0m \u001b[0;32mas\u001b[0m \u001b[0merr\u001b[0m\u001b[0;34m:\u001b[0m\u001b[0;34m\u001b[0m\u001b[0;34m\u001b[0m\u001b[0m\n\u001b[1;32m    619\u001b[0m             \u001b[0;32mif\u001b[0m \u001b[0mself\u001b[0m\u001b[0;34m.\u001b[0m\u001b[0m_connection\u001b[0m\u001b[0;34m.\u001b[0m\u001b[0mhave_next_result\u001b[0m\u001b[0;34m:\u001b[0m\u001b[0;34m\u001b[0m\u001b[0;34m\u001b[0m\u001b[0m\n",
      "\u001b[0;32m~/opt/anaconda3/lib/python3.9/site-packages/mysql/connector/connection.py\u001b[0m in \u001b[0;36mcmd_query\u001b[0;34m(self, query, raw, buffered, raw_as_string)\u001b[0m\n\u001b[1;32m   1044\u001b[0m         \u001b[0mquery\u001b[0m \u001b[0;34m=\u001b[0m \u001b[0mbytes\u001b[0m\u001b[0;34m(\u001b[0m\u001b[0mpacket\u001b[0m\u001b[0;34m)\u001b[0m\u001b[0;34m\u001b[0m\u001b[0;34m\u001b[0m\u001b[0m\n\u001b[1;32m   1045\u001b[0m         \u001b[0;32mtry\u001b[0m\u001b[0;34m:\u001b[0m\u001b[0;34m\u001b[0m\u001b[0;34m\u001b[0m\u001b[0m\n\u001b[0;32m-> 1046\u001b[0;31m             \u001b[0mresult\u001b[0m \u001b[0;34m=\u001b[0m \u001b[0mself\u001b[0m\u001b[0;34m.\u001b[0m\u001b[0m_handle_result\u001b[0m\u001b[0;34m(\u001b[0m\u001b[0mself\u001b[0m\u001b[0;34m.\u001b[0m\u001b[0m_send_cmd\u001b[0m\u001b[0;34m(\u001b[0m\u001b[0mServerCmd\u001b[0m\u001b[0;34m.\u001b[0m\u001b[0mQUERY\u001b[0m\u001b[0;34m,\u001b[0m \u001b[0mquery\u001b[0m\u001b[0;34m)\u001b[0m\u001b[0;34m)\u001b[0m\u001b[0;34m\u001b[0m\u001b[0;34m\u001b[0m\u001b[0m\n\u001b[0m\u001b[1;32m   1047\u001b[0m         \u001b[0;32mexcept\u001b[0m \u001b[0mProgrammingError\u001b[0m \u001b[0;32mas\u001b[0m \u001b[0merr\u001b[0m\u001b[0;34m:\u001b[0m\u001b[0;34m\u001b[0m\u001b[0;34m\u001b[0m\u001b[0m\n\u001b[1;32m   1048\u001b[0m             \u001b[0;32mif\u001b[0m \u001b[0merr\u001b[0m\u001b[0;34m.\u001b[0m\u001b[0merrno\u001b[0m \u001b[0;34m==\u001b[0m \u001b[0;36m3948\u001b[0m \u001b[0;32mand\u001b[0m \u001b[0;34m\"Loading local data is disabled\"\u001b[0m \u001b[0;32min\u001b[0m \u001b[0merr\u001b[0m\u001b[0;34m.\u001b[0m\u001b[0mmsg\u001b[0m\u001b[0;34m:\u001b[0m\u001b[0;34m\u001b[0m\u001b[0;34m\u001b[0m\u001b[0m\n",
      "\u001b[0;32m~/opt/anaconda3/lib/python3.9/site-packages/mysql/connector/connection.py\u001b[0m in \u001b[0;36m_handle_result\u001b[0;34m(self, packet)\u001b[0m\n\u001b[1;32m    822\u001b[0m             \u001b[0;32mreturn\u001b[0m \u001b[0mself\u001b[0m\u001b[0;34m.\u001b[0m\u001b[0m_handle_eof\u001b[0m\u001b[0;34m(\u001b[0m\u001b[0mpacket\u001b[0m\u001b[0;34m)\u001b[0m\u001b[0;34m\u001b[0m\u001b[0;34m\u001b[0m\u001b[0m\n\u001b[1;32m    823\u001b[0m         \u001b[0;32mif\u001b[0m \u001b[0mpacket\u001b[0m\u001b[0;34m[\u001b[0m\u001b[0;36m4\u001b[0m\u001b[0;34m]\u001b[0m \u001b[0;34m==\u001b[0m \u001b[0;36m255\u001b[0m\u001b[0;34m:\u001b[0m\u001b[0;34m\u001b[0m\u001b[0;34m\u001b[0m\u001b[0m\n\u001b[0;32m--> 824\u001b[0;31m             \u001b[0;32mraise\u001b[0m \u001b[0mget_exception\u001b[0m\u001b[0;34m(\u001b[0m\u001b[0mpacket\u001b[0m\u001b[0;34m)\u001b[0m\u001b[0;34m\u001b[0m\u001b[0;34m\u001b[0m\u001b[0m\n\u001b[0m\u001b[1;32m    825\u001b[0m \u001b[0;34m\u001b[0m\u001b[0m\n\u001b[1;32m    826\u001b[0m         \u001b[0;31m# We have a text result set\u001b[0m\u001b[0;34m\u001b[0m\u001b[0;34m\u001b[0m\u001b[0m\n",
      "\u001b[0;31mIntegrityError\u001b[0m: 1062 (23000): Duplicate entry '100' for key 'attacker.PRIMARY'"
     ]
    }
   ],
   "source": [
    "for i, row in attacker.iterrows():\n",
    "    sql = \"INSERT INTO  attacker VALUES (%s, %s, %s,%s,%s)\"\n",
    "    cursor.execute(sql, tuple(row))\n",
    "    print(\"Record inserted\") \n",
    "###already inserted value so there is an error"
   ]
  },
  {
   "cell_type": "code",
   "execution_count": 267,
   "id": "13fffe57",
   "metadata": {},
   "outputs": [],
   "source": [
    "connection.commit()"
   ]
  },
  {
   "cell_type": "code",
   "execution_count": 269,
   "id": "09d77a93",
   "metadata": {},
   "outputs": [
    {
     "name": "stdout",
     "output_type": "stream",
     "text": [
      "10\n"
     ]
    }
   ],
   "source": [
    "sql = \"SELECT * FROM attacker;\"\n",
    "cursor.execute(sql);\n",
    "result = cursor.fetchall()\n",
    "print(len(result));\n",
    "connection.commit();"
   ]
  },
  {
   "cell_type": "code",
   "execution_count": 270,
   "id": "7c8b2d68",
   "metadata": {},
   "outputs": [
    {
     "name": "stdout",
     "output_type": "stream",
     "text": [
      "Details of the attack where one of the atackers is named Lannister: [('100', '1', 'Joffrey Baratheon', '15000', 'Lannister'), ('101', '2', 'Joffrey Baratheon', '15000', 'Lannister'), ('102', '3', 'Joffrey  Baratheon', '15000', 'Lannister'), ('106', '7', 'Joffrey Baratheon', '8000', 'Lannister')]\n"
     ]
    }
   ],
   "source": [
    "##selecting all columns from attacker table where one of the attacker is a Lannister\n",
    "sql = \"SELECT * FROM attacker WHERE attacker_1 = 'Lannister';\"\n",
    "cursor.execute(sql);\n",
    "result = cursor.fetchall()\n",
    "print(\"Details of the attack where one of the atackers is named Lannister:\", result);"
   ]
  },
  {
   "cell_type": "code",
   "execution_count": 276,
   "id": "af471582",
   "metadata": {},
   "outputs": [],
   "source": [
    "##Inserting a value into the Location table\n",
    "sql = \"INSERT INTO Location (location,region,Location_ID) VALUES ('The_North', 'Winterfell','555');\"\n",
    "cursor.execute(sql);"
   ]
  },
  {
   "cell_type": "code",
   "execution_count": 277,
   "id": "8554cd79",
   "metadata": {},
   "outputs": [
    {
     "name": "stdout",
     "output_type": "stream",
     "text": [
      "Updating the name of the region correctly which was inserted incorrectly previously : [('The_North', 'White Harbor', 555)]\n"
     ]
    }
   ],
   "source": [
    "##Updating the value\n",
    "sql = \"UPDATE Location SET region = 'White Harbor' WHERE Location_ID = '555'\";\n",
    "cursor.execute(sql);\n",
    "sql = \"SELECT * FROM Location WHERE Location_ID = '555';\"\n",
    "cursor.execute(sql);\n",
    "result = cursor.fetchall()\n",
    "print(\"Updating the name of the region correctly which was inserted incorrectly previously :\", result);"
   ]
  },
  {
   "cell_type": "code",
   "execution_count": 278,
   "id": "34e42062",
   "metadata": {},
   "outputs": [
    {
     "name": "stdout",
     "output_type": "stream",
     "text": [
      "Deleting a location with the location ID 555 which was inserted above  []\n"
     ]
    }
   ],
   "source": [
    "##Deleting the value\n",
    "sql = \"DELETE FROM Location WHERE Location_ID = '555';\"\n",
    "cursor.execute(sql);\n",
    "sql = \"SELECT * FROM location WHERE Location_ID = '555';\"\n",
    "cursor.execute(sql);\n",
    "result = cursor.fetchall()\n",
    "print(\"Deleting a location with the location ID 555 which was inserted above \", result);"
   ]
  },
  {
   "cell_type": "code",
   "execution_count": 364,
   "id": "66efac89",
   "metadata": {},
   "outputs": [],
   "source": [
    "##Inserting the value to the Battles table\n",
    "sql=\"INSERT INTO Battles(name,year,battle_number,battle_type,major_death,major_capture,summer,attacker_outcome,Location_ID) VALUES('Battle_of_Bastards','202','1000','Ambush','1','0','0','win','315')\"\n",
    "cursor.execute(sql);"
   ]
  },
  {
   "cell_type": "code",
   "execution_count": 365,
   "id": "89f8a59f",
   "metadata": {},
   "outputs": [
    {
     "name": "stdout",
     "output_type": "stream",
     "text": [
      "Updating the name of the year correctly which was inserted incorrectly previously : [{'name': 'Battle_of_Bastards', 'year': '2014', 'battle_number': '1000', 'battle_type': 'Ambush', 'major_death': '1', 'major_capture': '0', 'summer': '0', 'attacker_outcome': 'win', 'Location_ID': 315}]\n"
     ]
    }
   ],
   "source": [
    "##Updating the value in the Battles table that is previously added\n",
    "sql = \"UPDATE Battles SET year = '2014' WHERE  Location_ID = '315'\";\n",
    "cursor.execute(sql);\n",
    "sql = \"SELECT * FROM Battles WHERE Location_ID = '315';\"\n",
    "cursor.execute(sql);\n",
    "result = cursor.fetchall()\n",
    "print(\"Updating the name of the year correctly which was inserted incorrectly previously :\", result);"
   ]
  },
  {
   "cell_type": "code",
   "execution_count": 366,
   "id": "f2b5061b",
   "metadata": {},
   "outputs": [
    {
     "name": "stdout",
     "output_type": "stream",
     "text": [
      "Deleting a battle with the location ID 315 which was inserted above  []\n"
     ]
    }
   ],
   "source": [
    "##Deleting the previous record\n",
    "sql=\"DELETE from battles where Location_ID='315'\"\n",
    "cursor.execute(sql);\n",
    "sql = \"SELECT * FROM Battles WHERE Location_ID = '315';\"\n",
    "cursor.execute(sql);\n",
    "result = cursor.fetchall()\n",
    "print(\"Deleting a battle with the location ID 315 which was inserted above \", result);\n"
   ]
  },
  {
   "cell_type": "code",
   "execution_count": 349,
   "id": "e9e4e7ba",
   "metadata": {},
   "outputs": [
    {
     "name": "stdout",
     "output_type": "stream",
     "text": [
      "This analysis shows the name of the battle and type of battle that is won\n",
      "{'name': 'Battle of the Golden Tooth', 'battle_type': 'pitched battle'}\n",
      "{'name': 'Battle of the Stony Shore', 'battle_type': 'ambush'}\n",
      "{'name': \"Battle at the Mummer's Ford\", 'battle_type': 'ambush'}\n",
      "{'name': 'Battle of Riverrun', 'battle_type': 'pitched battle'}\n",
      "{'name': 'Battle of the Whispering Wood', 'battle_type': 'ambush'}\n",
      "{'name': 'Battle of the Camps', 'battle_type': 'ambush'}\n",
      "{'name': 'Sack of Darry', 'battle_type': 'pitched battle'}\n",
      "{'name': 'Battle of Moat Cailin', 'battle_type': 'pitched battle'}\n",
      "{'name': 'Battle of Deepwood Motte', 'battle_type': 'siege'}\n"
     ]
    },
    {
     "data": {
      "image/png": "[encoded data removed]",
      "text/plain": [
       "<Figure size 576x432 with 1 Axes>"
      ]
     },
     "metadata": {
      "needs_background": "light"
     },
     "output_type": "display_data"
    }
   ],
   "source": [
    "print(\"This analysis shows the name of the battle and type of battle that is won\");\n",
    "cursor = connection.cursor(dictionary=True)\n",
    "sql = \"SELECT B.name,B.battle_type from Battles B inner join attacker A on A.battle_number=B.battle_number where B.attacker_outcome= 'win'\"\n",
    "cursor.execute(sql)\n",
    "result = cursor.fetchall()\n",
    "if len(result) == 0:\n",
    "  print(\"No rows found\")\n",
    "else:\n",
    "  for row in result:\n",
    "    print(row)\n",
    "df = pd.read_sql_query(sql, connection)\n",
    "battle_counts = df['battle_type'].value_counts()\n",
    "plt.figure(figsize=(8, 6))\n",
    "plt.bar(battle_counts.index, battle_counts.values, color='blue')\n",
    "plt.xlabel('Battle Type')\n",
    "plt.ylabel('Number of Battles')\n",
    "plt.title('Number of Battles Won by Attackers by Type')\n",
    "plt.show()\n",
    "\n",
    "\n",
    "\n"
   ]
  },
  {
   "cell_type": "code",
   "execution_count": 350,
   "id": "af463d12",
   "metadata": {},
   "outputs": [
    {
     "name": "stdout",
     "output_type": "stream",
     "text": [
      "This bar chart shows that most of the battles won are of the type pitched_battle which is a planned battle followedby ambush where the attacker surprises the other group and the least is by siege where one group forces the other one  to surrender\n"
     ]
    }
   ],
   "source": [
    "print(\"This bar chart shows that most of the battles won are of the type pitched_battle which is a planned battle followedby ambush where the attacker surprises the other group and the least is by siege where one group forces the other one  to surrender\");\n"
   ]
  },
  {
   "cell_type": "code",
   "execution_count": 358,
   "id": "fe7c8b3a",
   "metadata": {},
   "outputs": [
    {
     "name": "stdout",
     "output_type": "stream",
     "text": [
      "This analysis would calculate the sum of attacker sizes for each battle that is won and provide a measure of the total attacker strength for each battle.\n",
      "{'battle_number': '1', 'total_strength': 15000.0}\n",
      "{'battle_number': '10', 'total_strength': 264.0}\n",
      "{'battle_number': '2', 'total_strength': 15000.0}\n",
      "{'battle_number': '3', 'total_strength': 15000.0}\n",
      "{'battle_number': '5', 'total_strength': 1875.0}\n",
      "{'battle_number': '6', 'total_strength': 6000.0}\n",
      "{'battle_number': '7', 'total_strength': 8000.0}\n",
      "{'battle_number': '8', 'total_strength': 9000.0}\n",
      "{'battle_number': '9', 'total_strength': 1000.0}\n"
     ]
    }
   ],
   "source": [
    "print(\"This analysis would calculate the sum of attacker sizes for each battle that is won and provide a measure of the total attacker strength for each battle.\");\n",
    "cursor=connection.cursor(dictionary=True)\n",
    "sql=\"SELECT battles.battle_number, SUM(attacker.attacker_size) AS total_strength FROM battles INNER JOIN attacker ON battles.battle_number = attacker.battle_number where battles.attacker_outcome='win' GROUP BY battles.battle_number\"\n",
    "cursor.execute(sql)\n",
    "result = cursor.fetchall()\n",
    "if len(result) == 0:\n",
    "  print(\"No rows found\")\n",
    "else:\n",
    "  for row in result:\n",
    "    print(row)\n"
   ]
  },
  {
   "cell_type": "code",
   "execution_count": 360,
   "id": "2fee3126",
   "metadata": {},
   "outputs": [
    {
     "name": "stdout",
     "output_type": "stream",
     "text": [
      "This pie chart shows the total battle_strength of each battle and there is a tie between battle 1 and battle 3, the lowest is that of battle 10\n"
     ]
    },
    {
     "data": {
      "image/png": "[encoded data removed]",
      "text/plain": [
       "<Figure size 432x288 with 1 Axes>"
      ]
     },
     "metadata": {},
     "output_type": "display_data"
    }
   ],
   "source": [
    "print('This pie chart shows the total battle_strength of each battle and there is a tie between battle 1 and battle 3, the lowest is that of battle 10');\n",
    "labels = [row['battle_number'] for row in result]\n",
    "values = [row['total_strength'] for row in result]\n",
    "fig1, ax1 = plt.subplots()\n",
    "ax1.pie(values, labels=labels, autopct='%1.1f%%', startangle=90)\n",
    "ax1.axis('equal')\n",
    "plt.show()"
   ]
  },
  {
   "cell_type": "code",
   "execution_count": 356,
   "id": "597b90a4",
   "metadata": {},
   "outputs": [
    {
     "name": "stdout",
     "output_type": "stream",
     "text": [
      "This analysis would provide the number of unique attackers for each battle in the combined table.\n",
      "{'battle_number': '1', 'name_attackers': 1}\n",
      "{'battle_number': '10', 'name_attackers': 1}\n",
      "{'battle_number': '2', 'name_attackers': 1}\n",
      "{'battle_number': '3', 'name_attackers': 1}\n",
      "{'battle_number': '4', 'name_attackers': 1}\n",
      "{'battle_number': '5', 'name_attackers': 1}\n",
      "{'battle_number': '6', 'name_attackers': 1}\n",
      "{'battle_number': '7', 'name_attackers': 1}\n",
      "{'battle_number': '8', 'name_attackers': 1}\n",
      "{'battle_number': '9', 'name_attackers': 1}\n"
     ]
    },
    {
     "data": {
      "image/png": "[encoded data removed]",
      "text/plain": [
       "<Figure size 432x288 with 1 Axes>"
      ]
     },
     "metadata": {
      "needs_background": "light"
     },
     "output_type": "display_data"
    },
    {
     "name": "stdout",
     "output_type": "stream",
     "text": [
      "Every battle has a unique attacker\n"
     ]
    }
   ],
   "source": [
    "\n",
    "print(\"This analysis would provide the number of unique attackers for each battle in the combined table.\")\n",
    "sql = \"SELECT battles.battle_number, COUNT(DISTINCT attacker.attacker_king) AS name_attackers FROM battles INNER JOIN attacker ON battles.battle_number = attacker.battle_number GROUP BY battles.battle_number\";\n",
    "cursor.execute(sql)\n",
    "\n",
    "result = cursor.fetchall()\n",
    "\n",
    "if len(result) == 0:\n",
    "  print(\"No rows found\")\n",
    "else:\n",
    "  for row in result:\n",
    "    print(row)\n",
    "df = pd.DataFrame(result, columns=['battle_number', 'name_attackers'])\n",
    "plt.barh(df['battle_number'], df['name_attackers'])\n",
    "plt.xlabel('Number of Unique Attacker Kings')\n",
    "plt.ylabel('Battle Number')\n",
    "plt.title('Number of Unique Attacker Kings per Battle')\n",
    "plt.show()\n",
    "print('Every battle has a unique attacker')"
   ]
  },
  {
   "cell_type": "code",
   "execution_count": 352,
   "id": "644e33ec",
   "metadata": {},
   "outputs": [
    {
     "name": "stdout",
     "output_type": "stream",
     "text": [
      "This analysis shows difference in the sizes of the army between attackers and defenders \n",
      "{'name': \"Battle at the Mummer's Ford\", 'attacker_size': 15000.0, 'defender_size': 120.0, 'total_size': 14880.0}\n",
      "{'name': 'Battle of the Golden Tooth', 'attacker_size': 15000.0, 'defender_size': 4000.0, 'total_size': 11000.0}\n",
      "{'name': 'Battle of Moat Cailin', 'attacker_size': 9000.0, 'defender_size': 600.0, 'total_size': 8400.0}\n",
      "{'name': 'Battle of Riverrun', 'attacker_size': 15000.0, 'defender_size': 10000.0, 'total_size': 5000.0}\n",
      "{'name': 'Sack of Darry', 'attacker_size': 8000.0, 'defender_size': 7000.0, 'total_size': 1000.0}\n",
      "{'name': 'Battle of Deepwood Motte', 'attacker_size': 1000.0, 'defender_size': 550.0, 'total_size': 450.0}\n",
      "{'name': 'Battle of the Stony Shore', 'attacker_size': 264.0, 'defender_size': 950.0, 'total_size': -686.0}\n",
      "{'name': 'Battle of the Green Fork', 'attacker_size': 18000.0, 'defender_size': 20000.0, 'total_size': -2000.0}\n",
      "{'name': 'Battle of the Whispering Wood', 'attacker_size': 1875.0, 'defender_size': 6000.0, 'total_size': -4125.0}\n",
      "{'name': 'Battle of the Camps', 'attacker_size': 6000.0, 'defender_size': 12625.0, 'total_size': -6625.0}\n"
     ]
    }
   ],
   "source": [
    "\n",
    "print(\"This analysis shows difference in the sizes of the army between attackers and defenders \")\n",
    "sql=\"SELECT Battles.name, SUM(attacker_size) AS attacker_size, SUM(defender_size) AS defender_size, SUM(attacker_size) -SUM(defender_size) AS total_size FROM Battles LEFT JOIN attacker ON Battles.battle_number = attacker.battle_number LEFT JOIN defender ON Battles.battle_number = defender.battle_number GROUP BY Battles.name ORDER BY total_size DESC;\"\n",
    "cursor.execute(sql)\n",
    "\n",
    "result = cursor.fetchall()\n",
    "\n",
    "if len(result) == 0:\n",
    "  print(\"No rows found\")\n",
    "else:\n",
    "  for row in result:\n",
    "    print(row)"
   ]
  },
  {
   "cell_type": "code",
   "execution_count": 354,
   "id": "9559bda3",
   "metadata": {},
   "outputs": [
    {
     "data": {
      "image/png": "[encoded data removed]",
      "text/plain": [
       "<Figure size 720x576 with 1 Axes>"
      ]
     },
     "metadata": {
      "needs_background": "light"
     },
     "output_type": "display_data"
    },
    {
     "name": "stdout",
     "output_type": "stream",
     "text": [
      "The size of the attacker is greater than that of the defender significantly in most of the cases\n"
     ]
    }
   ],
   "source": [
    "df = pd.read_sql_query(sql, connection)\n",
    "plt.figure(figsize=(10, 8))\n",
    "plt.barh(df['name'], df['attacker_size'], color='red', label='Attacker Size')\n",
    "plt.barh(df['name'], df['defender_size'], left=df['attacker_size'], color='blue', label='Defender Size')\n",
    "plt.xlabel('Total Size')\n",
    "plt.ylabel('Battle Name')\n",
    "plt.title('Sizes of Each Battle')\n",
    "plt.legend()\n",
    "plt.show()\n",
    "print(\"The size of the attacker is greater than that of the defender significantly in most of the cases\")"
   ]
  },
  {
   "cell_type": "code",
   "execution_count": 345,
   "id": "4697be06",
   "metadata": {},
   "outputs": [
    {
     "name": "stdout",
     "output_type": "stream",
     "text": [
      "Location with the highest number of battles \n",
      "{'location': 'Riverrun', 'num_battles': 2}\n"
     ]
    }
   ],
   "source": [
    "print(\"This analysis shows the Location with the highest number of battles \")\n",
    "sql=\"SELECT location.location, COUNT(*) AS num_battles FROM Battles INNER JOIN location ON Battles.Location_ID = Location.Location_ID GROUP BY location.location ORDER BY num_battles DESC LIMIT 1;\"\n",
    "\n",
    "cursor.execute(sql)\n",
    "\n",
    "result = cursor.fetchall()\n",
    "\n",
    "if len(result) == 0:\n",
    "  print(\"No rows found\")\n",
    "else:\n",
    "  for row in result:\n",
    "    print(row)"
   ]
  },
  {
   "cell_type": "code",
   "execution_count": 357,
   "id": "a0ba9b92",
   "metadata": {},
   "outputs": [
    {
     "name": "stdout",
     "output_type": "stream",
     "text": [
      "The highest number of battles fought is in Riverrun which suggests that Riverrun is an important location to the kingdoms\n"
     ]
    }
   ],
   "source": [
    "print(\"The highest number of battles fought is in Riverrun which suggests that Riverrun is an important location to the kingdoms\");"
   ]
  },
  {
   "cell_type": "code",
   "execution_count": null,
   "id": "05a629f9",
   "metadata": {},
   "outputs": [],
   "source": []
  }
 ],
 "metadata": {
  "kernelspec": {
   "display_name": "Python 3 (ipykernel)",
   "language": "python",
   "name": "python3"
  },
  "language_info": {
   "codemirror_mode": {
    "name": "ipython",
    "version": 3
   },
   "file_extension": ".py",
   "mimetype": "text/x-python",
   "name": "python",
   "nbconvert_exporter": "python",
   "pygments_lexer": "ipython3",
   "version": "3.9.7"
  }
 },
 "nbformat": 4,
 "nbformat_minor": 5
}
